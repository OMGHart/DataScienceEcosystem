{
 "cells": [
  {
   "cell_type": "markdown",
   "id": "6b622195-852c-4288-bce2-767bd3cdfb26",
   "metadata": {},
   "source": [
    "# Data Science Tools and Ecosystem"
   ]
  },
  {
   "cell_type": "markdown",
   "id": "6d25b905-bf26-45d0-85a7-1a04da9fd129",
   "metadata": {},
   "source": [
    "## In this notebook, Data Science Tools and Ecosystem are summarized."
   ]
  },
  {
   "cell_type": "markdown",
   "id": "af0b63f0-ea4b-469b-b055-0711c06c5bf1",
   "metadata": {},
   "source": [
    "**Objectives:**\n",
    "- List popular languages for data science\n",
    "- List popular packages for data science\n",
    "- Create and execute code in Python and R"
   ]
  },
  {
   "cell_type": "markdown",
   "id": "0a2447da-acf6-4679-89a1-b1491edd35a9",
   "metadata": {},
   "source": [
    "### Some of the popular languages that data scientists use are:\n",
    "    1. Python\n",
    "    2. R\n",
    "    3. SQL"
   ]
  },
  {
   "cell_type": "markdown",
   "id": "48d4a945-6ffe-4d11-b67a-1292d0ee0a42",
   "metadata": {},
   "source": [
    "## Some of the libraries commonly used by data scientists include:\n",
    "    1. ggplot2\n",
    "    2. matplotlib\n",
    "    3. sci"
   ]
  },
  {
   "cell_type": "markdown",
   "id": "9d7d3b85-1109-4190-9455-ffff01a8415b",
   "metadata": {},
   "source": [
    "Data Science Tools\n",
    "---:\n",
    "Hadoop\n",
    "pandas\n",
    "TensorFlow"
   ]
  },
  {
   "cell_type": "markdown",
   "id": "5150b6c8-688e-4c98-b630-4e621d5b2089",
   "metadata": {},
   "source": [
    "### Below are a few examples of evaluating arithmetic expressions in Python:"
   ]
  },
  {
   "cell_type": "code",
   "execution_count": 5,
   "id": "93bcc39c-5f64-45fa-a575-f1a628d20a53",
   "metadata": {},
   "outputs": [
    {
     "data": {
      "text/plain": [
       "17"
      ]
     },
     "execution_count": 5,
     "metadata": {},
     "output_type": "execute_result"
    }
   ],
   "source": [
    "# This is a simple arithmetic expression to multiply and add integers:\n",
    "\n",
    "(3*4)+5"
   ]
  },
  {
   "cell_type": "code",
   "execution_count": 6,
   "id": "fd5f65b8-1092-4ecd-9d09-59f0b3f82d27",
   "metadata": {
    "scrolled": true
   },
   "outputs": [
    {
     "data": {
      "text/plain": [
       "3.3333333333333335"
      ]
     },
     "execution_count": 6,
     "metadata": {},
     "output_type": "execute_result"
    }
   ],
   "source": [
    "# This will convert 200 minutes to hours by dividing by 60\n",
    "\n",
    "200/60"
   ]
  },
  {
   "cell_type": "markdown",
   "id": "cedc9f20-223f-4c58-8250-c41f37f00b79",
   "metadata": {},
   "source": [
    "## Author\n",
    "\n",
    "Michael Hart"
   ]
  }
 ],
 "metadata": {
  "kernelspec": {
   "display_name": "Python 3 (ipykernel)",
   "language": "python",
   "name": "python3"
  },
  "language_info": {
   "codemirror_mode": {
    "name": "ipython",
    "version": 3
   },
   "file_extension": ".py",
   "mimetype": "text/x-python",
   "name": "python",
   "nbconvert_exporter": "python",
   "pygments_lexer": "ipython3",
   "version": "3.12.3"
  }
 },
 "nbformat": 4,
 "nbformat_minor": 5
}
